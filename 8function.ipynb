{
  "nbformat": 4,
  "nbformat_minor": 0,
  "metadata": {
    "colab": {
      "provenance": [],
      "authorship_tag": "ABX9TyP3cJBbu00mGgOF5L7LEO/l",
      "include_colab_link": true
    },
    "kernelspec": {
      "name": "python3",
      "display_name": "Python 3"
    },
    "language_info": {
      "name": "python"
    }
  },
  "cells": [
    {
      "cell_type": "markdown",
      "metadata": {
        "id": "view-in-github",
        "colab_type": "text"
      },
      "source": [
        "<a href=\"https://colab.research.google.com/github/NaveenManepalli/Machine-learning/blob/main/8function.ipynb\" target=\"_parent\"><img src=\"https://colab.research.google.com/assets/colab-badge.svg\" alt=\"Open In Colab\"/></a>"
      ]
    },
    {
      "cell_type": "markdown",
      "source": [
        "**Functions:**\n",
        "\n",
        "Function is a block of code that can be reused in a Program\n",
        "\n",
        "Factorial of a Number\n",
        "\n",
        "Factorial of a number is the product of all the positive integers less than or equal to the given number\n",
        "\n",
        "Factorial of 5 = 5 x 4 x 3 x 2 x 1 = 120"
      ],
      "metadata": {
        "id": "g0K9c9g1N9QF"
      }
    },
    {
      "cell_type": "code",
      "execution_count": 1,
      "metadata": {
        "colab": {
          "base_uri": "https://localhost:8080/"
        },
        "id": "pCKU7SjkN0eU",
        "outputId": "38314e9d-235d-4a0e-e549-e2021c568467"
      },
      "outputs": [
        {
          "output_type": "stream",
          "name": "stdout",
          "text": [
            " Enter a number to find its factorial : 7\n",
            "The factorial of  7  is 5040\n"
          ]
        }
      ],
      "source": [
        "number = int(input(' Enter a number to find its factorial : '))\n",
        "\n",
        "factorial = 1\n",
        "\n",
        "if number == 0:\n",
        "  print(' The Factorial of 0 is 1')\n",
        "\n",
        "else:\n",
        "  for i in range(1, number+1):\n",
        "    factorial = factorial*i\n",
        "  print('The factorial of ',number,' is',factorial)"
      ]
    },
    {
      "cell_type": "markdown",
      "source": [],
      "metadata": {
        "id": "2WeGm-0zOL4m"
      }
    },
    {
      "cell_type": "markdown",
      "source": [
        "**Factoraial Function**"
      ],
      "metadata": {
        "id": "lh0vd1AiOJSq"
      }
    },
    {
      "cell_type": "code",
      "source": [
        "def factorial_value(num):\n",
        "\n",
        "  factorial = 1\n",
        "\n",
        "  if num == 0:\n",
        "    return factorial\n",
        "\n",
        "  else:\n",
        "    for i in range(1, num+1):\n",
        "      factorial = factorial*i\n",
        "    return factorial"
      ],
      "metadata": {
        "id": "82Q8VQu-OE8L"
      },
      "execution_count": 2,
      "outputs": []
    },
    {
      "cell_type": "code",
      "source": [
        "print(factorial_value(5))"
      ],
      "metadata": {
        "colab": {
          "base_uri": "https://localhost:8080/"
        },
        "id": "89hGFXCCOOzU",
        "outputId": "66b71c4b-d918-4c6b-cbb8-b6f3473ccdb0"
      },
      "execution_count": 3,
      "outputs": [
        {
          "output_type": "stream",
          "name": "stdout",
          "text": [
            "120\n"
          ]
        }
      ]
    },
    {
      "cell_type": "code",
      "source": [
        "print(factorial_value(10))"
      ],
      "metadata": {
        "colab": {
          "base_uri": "https://localhost:8080/"
        },
        "id": "97OiA1zVOQpU",
        "outputId": "86ae759e-895c-4cd7-e850-0aa1224395f3"
      },
      "execution_count": 4,
      "outputs": [
        {
          "output_type": "stream",
          "name": "stdout",
          "text": [
            "3628800\n"
          ]
        }
      ]
    },
    {
      "cell_type": "code",
      "source": [
        "print(factorial_value(6))"
      ],
      "metadata": {
        "colab": {
          "base_uri": "https://localhost:8080/"
        },
        "id": "OmuY2SPcOSwY",
        "outputId": "b86f370d-6e1e-4782-bc47-65197cbd6996"
      },
      "execution_count": 5,
      "outputs": [
        {
          "output_type": "stream",
          "name": "stdout",
          "text": [
            "720\n"
          ]
        }
      ]
    },
    {
      "cell_type": "code",
      "source": [],
      "metadata": {
        "id": "RyDjgkvxOV4r"
      },
      "execution_count": null,
      "outputs": []
    }
  ]
}
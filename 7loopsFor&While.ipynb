{
  "nbformat": 4,
  "nbformat_minor": 0,
  "metadata": {
    "colab": {
      "provenance": [],
      "authorship_tag": "ABX9TyNKcX13B38SK3XWGyAR09Yl",
      "include_colab_link": true
    },
    "kernelspec": {
      "name": "python3",
      "display_name": "Python 3"
    },
    "language_info": {
      "name": "python"
    }
  },
  "cells": [
    {
      "cell_type": "markdown",
      "metadata": {
        "id": "view-in-github",
        "colab_type": "text"
      },
      "source": [
        "<a href=\"https://colab.research.google.com/github/NaveenManepalli/Machine-learning/blob/main/7loopsFor%26While.ipynb\" target=\"_parent\"><img src=\"https://colab.research.google.com/assets/colab-badge.svg\" alt=\"Open In Colab\"/></a>"
      ]
    },
    {
      "cell_type": "markdown",
      "source": [
        "**For loop**"
      ],
      "metadata": {
        "id": "SVL1c09rEsE7"
      }
    },
    {
      "cell_type": "code",
      "execution_count": 2,
      "metadata": {
        "colab": {
          "base_uri": "https://localhost:8080/"
        },
        "id": "nyK_xOj3CUps",
        "outputId": "9e71df98-eed6-45d5-d6d6-5d178de6642b"
      },
      "outputs": [
        {
          "name": "stdout",
          "output_type": "stream",
          "text": [
            "Enter the price of the laptop : 1\n",
            "Enter the price of the laptop : 1\n",
            "Enter the price of the laptop : 3\n",
            "Enter the price of the laptop : 4\n",
            "Enter the price of the laptop : 5\n"
          ]
        }
      ],
      "source": [
        "laptop1 = int(input('Enter the price of the laptop : '))\n",
        "laptop2 = int(input('Enter the price of the laptop : '))\n",
        "laptop3 = int(input('Enter the price of the laptop : '))\n",
        "laptop4 = int(input('Enter the price of the laptop : '))\n",
        "laptop5 = int(input('Enter the price of the laptop : '))"
      ]
    },
    {
      "cell_type": "code",
      "source": [
        "for i in range(7):    # 0,1,2,3,4,5,6\n",
        "  laptop_price = int(input('Enter the price of the laptop : '))"
      ],
      "metadata": {
        "colab": {
          "base_uri": "https://localhost:8080/"
        },
        "id": "rLV19HoTE-QC",
        "outputId": "67b4c4a5-2633-49e4-ded7-c47a59f95ba6"
      },
      "execution_count": 3,
      "outputs": [
        {
          "name": "stdout",
          "output_type": "stream",
          "text": [
            "Enter the price of the laptop : 8\n",
            "Enter the price of the laptop : 6\n",
            "Enter the price of the laptop : 1\n",
            "Enter the price of the laptop : 8\n",
            "Enter the price of the laptop : 4\n",
            "Enter the price of the laptop : 3\n",
            "Enter the price of the laptop : 7\n"
          ]
        }
      ]
    },
    {
      "cell_type": "code",
      "source": [
        "numbers = [50, 100, 150, 200]\n",
        "\n",
        "print(numbers[0])\n",
        "print(numbers[1])\n",
        "print(numbers[2])\n",
        "print(numbers[3])"
      ],
      "metadata": {
        "colab": {
          "base_uri": "https://localhost:8080/"
        },
        "id": "TDD4tCwhFRma",
        "outputId": "6ba3328a-f6b5-4ba2-df5c-ba1227fbc2ec"
      },
      "execution_count": 4,
      "outputs": [
        {
          "output_type": "stream",
          "name": "stdout",
          "text": [
            "50\n",
            "100\n",
            "150\n",
            "200\n"
          ]
        }
      ]
    },
    {
      "cell_type": "code",
      "source": [
        "numbers = [50, 100, 150, 200]\n",
        "\n",
        "for i in numbers:\n",
        "  print(i)"
      ],
      "metadata": {
        "colab": {
          "base_uri": "https://localhost:8080/"
        },
        "id": "DkPKII_1FU3i",
        "outputId": "a0115104-c1c0-4686-8e74-607f2487e702"
      },
      "execution_count": 5,
      "outputs": [
        {
          "output_type": "stream",
          "name": "stdout",
          "text": [
            "50\n",
            "100\n",
            "150\n",
            "200\n"
          ]
        }
      ]
    },
    {
      "cell_type": "markdown",
      "source": [
        "**While loop**\n",
        "\n",
        "\n",
        "while condition:\n",
        "\n",
        "statement"
      ],
      "metadata": {
        "id": "Y3x_OBVMEsWS"
      }
    },
    {
      "cell_type": "code",
      "source": [
        "i = 0\n",
        "\n",
        "while i<10:\n",
        "  print(i)\n",
        "  i += 1"
      ],
      "metadata": {
        "colab": {
          "base_uri": "https://localhost:8080/"
        },
        "id": "2SZTUcvOFb3Y",
        "outputId": "aeef034f-f1a4-47e4-8cbb-cf6f74d72591"
      },
      "execution_count": 7,
      "outputs": [
        {
          "output_type": "stream",
          "name": "stdout",
          "text": [
            "0\n",
            "1\n",
            "2\n",
            "3\n",
            "4\n",
            "5\n",
            "6\n",
            "7\n",
            "8\n",
            "9\n"
          ]
        }
      ]
    },
    {
      "cell_type": "code",
      "source": [
        "i = 5\n",
        "\n",
        "while i<3:\n",
        "  print(i)\n",
        "  i +=1\n",
        ""
      ],
      "metadata": {
        "id": "qzMQUQsbFlAZ"
      },
      "execution_count": 8,
      "outputs": []
    }
  ]
}